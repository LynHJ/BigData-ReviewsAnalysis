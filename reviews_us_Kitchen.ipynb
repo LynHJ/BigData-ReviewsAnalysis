{
  "cells": [
    {
      "cell_type": "code",
      "execution_count": 14,
      "metadata": {
        "id": "-8eFW_wl1n39"
      },
      "outputs": [],
      "source": [
        "import os\n",
        "# Find the latest version of spark from http://www.apache.org/dist/spark/ \n",
        "spark_version = 'spark-3.3.1'\n",
        "\n",
        "os.environ['SPARK_VERSION']=spark_version\n",
        "\n",
        "# Install Spark and Java\n",
        "# !apt-get update\n",
        "!apt-get install openjdk-8-jdk-headless -qq > /dev/null\n",
        "!wget -q http://www.apache.org/dist/spark/$SPARK_VERSION/$SPARK_VERSION-bin-hadoop3.tgz\n",
        "!tar xf $SPARK_VERSION-bin-hadoop3.tgz\n",
        "!pip install -q findspark\n",
        "\n",
        "# Set Environment Variables\n",
        "os.environ[\"JAVA_HOME\"] = \"/usr/lib/jvm/java-8-openjdk-amd64\"\n",
        "os.environ[\"SPARK_HOME\"] = f\"/content/{spark_version}-bin-hadoop3\"\n",
        "\n",
        "# Start a SparkSession\n",
        "import findspark\n",
        "findspark.init()"
      ]
    },
    {
      "cell_type": "code",
      "execution_count": 15,
      "metadata": {
        "colab": {
          "base_uri": "https://localhost:8080/"
        },
        "id": "BzCrgs0Z1rnw",
        "outputId": "0afc3b8a-9979-4ad8-ab3c-9dc59cd468ec"
      },
      "outputs": [
        {
          "name": "stdout",
          "output_type": "stream",
          "text": [
            "--2022-12-02 04:20:56--  https://jdbc.postgresql.org/download/postgresql-42.2.9.jar\n",
            "Resolving jdbc.postgresql.org (jdbc.postgresql.org)... 72.32.157.228, 2001:4800:3e1:1::228\n",
            "Connecting to jdbc.postgresql.org (jdbc.postgresql.org)|72.32.157.228|:443... connected.\n",
            "HTTP request sent, awaiting response... 200 OK\n",
            "Length: 914037 (893K) [application/java-archive]\n",
            "Saving to: ‘postgresql-42.2.9.jar.1’\n",
            "\n",
            "postgresql-42.2.9.j 100%[===================>] 892.61K  --.-KB/s    in 0.1s    \n",
            "\n",
            "2022-12-02 04:20:56 (5.86 MB/s) - ‘postgresql-42.2.9.jar.1’ saved [914037/914037]\n",
            "\n"
          ]
        }
      ],
      "source": [
        "# Get postgresql package\n",
        "!wget https://jdbc.postgresql.org/download/postgresql-42.2.9.jar"
      ]
    },
    {
      "cell_type": "code",
      "execution_count": 16,
      "metadata": {
        "id": "0DuBth0V2PR8"
      },
      "outputs": [],
      "source": [
        "# Import Spark and create a SparkSession\n",
        "from pyspark.sql import SparkSession\n",
        "spark = SparkSession.builder.appName(\"BigData-reviews_us_Kitchen\").config(\"spark.driver.extraClassPath\",\"/content/postgresql-42.2.9.jar\").getOrCreate()"
      ]
    },
    {
      "cell_type": "markdown",
      "metadata": {
        "id": "D3W2XJVi2CU-"
      },
      "source": [
        "# Extract the Amazon Data into Spark DataFrame"
      ]
    },
    {
      "cell_type": "code",
      "execution_count": 17,
      "metadata": {
        "colab": {
          "base_uri": "https://localhost:8080/"
        },
        "id": "Na_stw7b1wfU",
        "outputId": "a3bddd12-166a-4969-f46c-486288af6113"
      },
      "outputs": [
        {
          "name": "stdout",
          "output_type": "stream",
          "text": [
            "+-----------+-----------+--------------+----------+--------------+--------------------+----------------+-----------+-------------+-----------+----+-----------------+--------------------+--------------------+-----------+\n",
            "|marketplace|customer_id|     review_id|product_id|product_parent|       product_title|product_category|star_rating|helpful_votes|total_votes|vine|verified_purchase|     review_headline|         review_body|review_date|\n",
            "+-----------+-----------+--------------+----------+--------------+--------------------+----------------+-----------+-------------+-----------+----+-----------------+--------------------+--------------------+-----------+\n",
            "|         US|   37000337|R3DT59XH7HXR9K|B00303FI0G|     529320574|Arthur Court Pape...|         Kitchen|          5|            0|          0|   N|                Y|Beautiful. Looks ...|Beautiful.  Looks...| 2015-08-31|\n",
            "|         US|   15272914|R1LFS11BNASSU8|B00JCZKZN6|     274237558|Olde Thompson Bav...|         Kitchen|          5|            0|          1|   N|                Y| Awesome & Self-ness|I personally have...| 2015-08-31|\n",
            "|         US|   36137863|R296RT05AG0AF6|B00JLIKA5C|     544675303|Progressive Inter...|         Kitchen|          5|            0|          0|   N|                Y|Fabulous and wort...|Fabulous and wort...| 2015-08-31|\n",
            "|         US|   43311049|R3V37XDZ7ZCI3L|B000GBNB8G|     491599489|Zyliss Jumbo Garl...|         Kitchen|          5|            0|          1|   N|                Y|          Five Stars|A must if you lov...| 2015-08-31|\n",
            "|         US|   13763148|R14GU232NQFYX2|B00VJ5KX9S|     353790155|1 X Premier Pizza...|         Kitchen|          5|            0|          0|   N|                Y|     Better than sex|Worth every penny...| 2015-08-31|\n",
            "|         US|   19009420| RZQH4V7L2O1PL|B00HYB5YY0|     432241873|       CHEF Aluminum|         Kitchen|          1|            1|          1|   N|                Y|Does not work on ...|The description s...| 2015-08-31|\n",
            "|         US|   40599388|R1F8JMOSPJ3KO7|B000HEBAV2|     584680984|Presto Dual Profr...|         Kitchen|          5|            0|          0|   N|                Y|Awesome! First fr...|Awesome! First fr...| 2015-08-31|\n",
            "|         US|   22719359|R1ZISGY2BWW4Z5|B0012DS4GG|     772637306|Rubbermaid Produc...|         Kitchen|          5|            0|          0|   N|                Y|          Five Stars|Very good item. Q...| 2015-08-31|\n",
            "|         US|   47478640|R17PW4I3AE5WZW|B00FLQ4EE6|     755416578|Cuisinart 12-Piec...|         Kitchen|          5|            0|          0|   N|                Y|          Five Stars|sharp and look great| 2015-08-31|\n",
            "|         US|   34195504|R3D93G1KTP6A8P|B00DBS9OTG|     648762742|Kegco 6\" Stainles...|         Kitchen|          3|            0|          0|   N|                Y|         Three Stars|Should have come ...| 2015-08-31|\n",
            "|         US|   19100570|R18TQIW1NKPUNU|B00AN9UJ68|     495720940|Cuisinart Smart S...|         Kitchen|          5|            0|          0|   N|                Y|          Five Stars|  my friend loves it| 2015-08-31|\n",
            "|         US|   10299811|R34KUNL21WU248|B00L2P0KNO|      41330497|Searzall Torch At...|         Kitchen|          4|            0|          0|   N|                Y|          Four Stars|works as expected...| 2015-08-31|\n",
            "|         US|   32687006|R2YA1ZA53X12IN|B00NQOJQXY|     191893454|Wilton 1512-1664 ...|         Kitchen|          5|            0|          0|   N|                Y|               great|               great| 2015-08-31|\n",
            "|         US|   43260893|R2ZD1IGC9UU55X|B00080QE1Q|     277442428|Magnalite Classic...|         Kitchen|          5|            1|          1|   N|                Y|         Great Pots!|Fantastic product...| 2015-08-31|\n",
            "|         US|    8067227| R9J2YMVZTUVZ7|B009VU17ZM|     414077276|Sun's Tea(TM) 20o...|         Kitchen|          5|            0|          0|   N|                Y|          Five Stars|Work great, well ...| 2015-08-31|\n",
            "|         US|   18139929|R2UUXJ0WQR0CNI|B00MY71KO2|     138697457|Adventure Time Be...|         Kitchen|          4|            0|          0|   N|                Y|              So big|holds a loooot of...| 2015-08-31|\n",
            "|         US|   12282702|R3S9QICITG73JZ|B00A6N18CK|      48180946|DecoBros 3 Tier D...|         Kitchen|          5|            0|          0|   N|                Y|It looks nice & n...|The DecoBros K cu...| 2015-08-31|\n",
            "|         US|   38649737|R3LISNJHS64PDA|B00AB8NOLS|      67759108|Brita Water Filte...|         Kitchen|          4|            0|          0|   N|                Y|          Four Stars| Met my expectations| 2015-08-31|\n",
            "|         US|   33460969|R28RB82UG4RDD5|B00FB4UPA0|      10711472|Nifty Home 24 K-C...|         Kitchen|          5|           20|         20|   N|                Y| Saves counter space|Fits under my ful...| 2015-08-31|\n",
            "|         US|   40274860|R3H0PRVII5991X|B00YMHBQ0A|     618617346|Eoonfirst Snoopy ...|         Kitchen|          5|            0|          0|   N|                Y|          Five Stars|            Love it!| 2015-08-31|\n",
            "+-----------+-----------+--------------+----------+--------------+--------------------+----------------+-----------+-------------+-----------+----+-----------------+--------------------+--------------------+-----------+\n",
            "only showing top 20 rows\n",
            "\n"
          ]
        }
      ],
      "source": [
        "# Read in the data from an S3 Bucket\n",
        "from pyspark import SparkFiles\n",
        "\n",
        "url = \"https://s3.amazonaws.com/amazon-reviews-pds/tsv/amazon_reviews_us_Kitchen_v1_00.tsv.gz\"\n",
        "spark.sparkContext.addFile(url)\n",
        "kitchen_df = spark.read.csv(SparkFiles.get('amazon_reviews_us_Kitchen_v1_00.tsv.gz'),sep = '\\t', inferSchema = True, header = True, timestampFormat=\"yyyy/MM/dd\")\n",
        "kitchen_df.show()"
      ]
    },
    {
      "cell_type": "code",
      "execution_count": 18,
      "metadata": {
        "colab": {
          "base_uri": "https://localhost:8080/"
        },
        "id": "Cayz-3Q52IM3",
        "outputId": "7225039f-8666-48f7-aff7-db1aed7f4b1d"
      },
      "outputs": [
        {
          "data": {
            "text/plain": [
              "4880466"
            ]
          },
          "execution_count": 18,
          "metadata": {},
          "output_type": "execute_result"
        }
      ],
      "source": [
        "# Get the number of rows in the DataFrame.\n",
        "kitchen_df.count()"
      ]
    },
    {
      "cell_type": "markdown",
      "metadata": {
        "id": "PBHfufJbVIe6"
      },
      "source": [
        "## Examine the schema"
      ]
    },
    {
      "cell_type": "code",
      "execution_count": 19,
      "metadata": {
        "colab": {
          "base_uri": "https://localhost:8080/"
        },
        "id": "hTc-3GReVHox",
        "outputId": "fd06438a-009f-427b-bfc5-94b0d011b105"
      },
      "outputs": [
        {
          "name": "stdout",
          "output_type": "stream",
          "text": [
            "root\n",
            " |-- marketplace: string (nullable = true)\n",
            " |-- customer_id: integer (nullable = true)\n",
            " |-- review_id: string (nullable = true)\n",
            " |-- product_id: string (nullable = true)\n",
            " |-- product_parent: integer (nullable = true)\n",
            " |-- product_title: string (nullable = true)\n",
            " |-- product_category: string (nullable = true)\n",
            " |-- star_rating: integer (nullable = true)\n",
            " |-- helpful_votes: integer (nullable = true)\n",
            " |-- total_votes: integer (nullable = true)\n",
            " |-- vine: string (nullable = true)\n",
            " |-- verified_purchase: string (nullable = true)\n",
            " |-- review_headline: string (nullable = true)\n",
            " |-- review_body: string (nullable = true)\n",
            " |-- review_date: string (nullable = true)\n",
            "\n"
          ]
        }
      ],
      "source": [
        "kitchen_df.printSchema()"
      ]
    },
    {
      "cell_type": "markdown",
      "metadata": {
        "id": "C9U0rkGZ2eu7"
      },
      "source": [
        "# Transform the Data"
      ]
    },
    {
      "cell_type": "markdown",
      "metadata": {
        "id": "dUoftWoKtM_c"
      },
      "source": [
        "## Create the \"review_id_table\"."
      ]
    },
    {
      "cell_type": "code",
      "execution_count": 20,
      "metadata": {
        "colab": {
          "base_uri": "https://localhost:8080/"
        },
        "id": "2tMYkSIk2d-m",
        "outputId": "7e99f613-89aa-42fd-8c4a-dbb72cd4cda9"
      },
      "outputs": [
        {
          "name": "stdout",
          "output_type": "stream",
          "text": [
            "+--------------+-----------+----------+--------------+-----------+\n",
            "|     review_id|customer_id|product_id|product_parent|review_date|\n",
            "+--------------+-----------+----------+--------------+-----------+\n",
            "|R3DT59XH7HXR9K|   37000337|B00303FI0G|     529320574| 2015-08-31|\n",
            "|R1LFS11BNASSU8|   15272914|B00JCZKZN6|     274237558| 2015-08-31|\n",
            "|R296RT05AG0AF6|   36137863|B00JLIKA5C|     544675303| 2015-08-31|\n",
            "|R3V37XDZ7ZCI3L|   43311049|B000GBNB8G|     491599489| 2015-08-31|\n",
            "|R14GU232NQFYX2|   13763148|B00VJ5KX9S|     353790155| 2015-08-31|\n",
            "| RZQH4V7L2O1PL|   19009420|B00HYB5YY0|     432241873| 2015-08-31|\n",
            "|R1F8JMOSPJ3KO7|   40599388|B000HEBAV2|     584680984| 2015-08-31|\n",
            "|R1ZISGY2BWW4Z5|   22719359|B0012DS4GG|     772637306| 2015-08-31|\n",
            "|R17PW4I3AE5WZW|   47478640|B00FLQ4EE6|     755416578| 2015-08-31|\n",
            "|R3D93G1KTP6A8P|   34195504|B00DBS9OTG|     648762742| 2015-08-31|\n",
            "|R18TQIW1NKPUNU|   19100570|B00AN9UJ68|     495720940| 2015-08-31|\n",
            "|R34KUNL21WU248|   10299811|B00L2P0KNO|      41330497| 2015-08-31|\n",
            "|R2YA1ZA53X12IN|   32687006|B00NQOJQXY|     191893454| 2015-08-31|\n",
            "|R2ZD1IGC9UU55X|   43260893|B00080QE1Q|     277442428| 2015-08-31|\n",
            "| R9J2YMVZTUVZ7|    8067227|B009VU17ZM|     414077276| 2015-08-31|\n",
            "|R2UUXJ0WQR0CNI|   18139929|B00MY71KO2|     138697457| 2015-08-31|\n",
            "|R3S9QICITG73JZ|   12282702|B00A6N18CK|      48180946| 2015-08-31|\n",
            "|R3LISNJHS64PDA|   38649737|B00AB8NOLS|      67759108| 2015-08-31|\n",
            "|R28RB82UG4RDD5|   33460969|B00FB4UPA0|      10711472| 2015-08-31|\n",
            "|R3H0PRVII5991X|   40274860|B00YMHBQ0A|     618617346| 2015-08-31|\n",
            "+--------------+-----------+----------+--------------+-----------+\n",
            "only showing top 20 rows\n",
            "\n"
          ]
        }
      ],
      "source": [
        "# Create the \"review_id_df\" DataFrame\n",
        "kitchen_review_id_df = kitchen_df.select('review_id','customer_id','product_id','product_parent','review_date')\n",
        "\n",
        "kitchen_review_id_df.show()"
      ]
    },
    {
      "cell_type": "code",
      "execution_count": 32,
      "metadata": {
        "colab": {
          "base_uri": "https://localhost:8080/"
        },
        "id": "0GiMsSxQDDYB",
        "outputId": "9bc681ba-c180-4cab-ba4b-bbf435453dbb"
      },
      "outputs": [
        {
          "data": {
            "text/plain": [
              "4880466"
            ]
          },
          "execution_count": 32,
          "metadata": {},
          "output_type": "execute_result"
        }
      ],
      "source": [
        "kitchen_review_id_df.count()"
      ]
    },
    {
      "cell_type": "markdown",
      "metadata": {
        "id": "aAVCFjXhtXO8"
      },
      "source": [
        "## Create the \"products\" Table"
      ]
    },
    {
      "cell_type": "code",
      "execution_count": 21,
      "metadata": {
        "colab": {
          "base_uri": "https://localhost:8080/"
        },
        "id": "g9gTNhT62je4",
        "outputId": "6621a518-cf4f-4ea3-bf2e-38bcafe22bac"
      },
      "outputs": [
        {
          "name": "stdout",
          "output_type": "stream",
          "text": [
            "+----------+--------------------+\n",
            "|product_id|       product_title|\n",
            "+----------+--------------------+\n",
            "|B004NWK4W0|Wildkin Pink Leop...|\n",
            "|B00IE70YFC|Wilton 415-2178 3...|\n",
            "|B00004W499|George Foreman GG...|\n",
            "|B000Q945FG|BIA Cordon Bleu B...|\n",
            "|B007WTOIPA|Clorox Sales Co B...|\n",
            "|B006IC09P0|Utenlid Acrylic R...|\n",
            "|B00CDSU2MI|2000 Diamond Tabl...|\n",
            "|B000WJMTNA|OXO Good Grips St...|\n",
            "|B00DYRI13O|Reed & Barton 148...|\n",
            "|B005FPD67Y|     Ergo Chef Tongs|\n",
            "|B00JLA6POU|TeChef - Art Pan ...|\n",
            "|B00FN3P7X4|Hamilton Beach 1....|\n",
            "|B000UVHUCU|KitchenAid Ultra ...|\n",
            "|B00IZCWYR2|PackIt Freezable ...|\n",
            "|B0105V7VS2|Top Rated Lemon S...|\n",
            "|B002P667TU|Browne (22126P) 6...|\n",
            "|B00KIYWDTO|Wolfgang Puck Pre...|\n",
            "|B00004S9EJ|Cuisinart DLC-8SY...|\n",
            "|B00D19SSE2|Ozeri Serafino Do...|\n",
            "|B00JV8PTYY|Thermos 12 Ounce ...|\n",
            "+----------+--------------------+\n",
            "only showing top 20 rows\n",
            "\n"
          ]
        }
      ],
      "source": [
        "# Create the \"products_df\" DataFrame that drops the duplicates in the \"product_id\" and \"product_title columns. \n",
        "\n",
        "kitchen_products_df = kitchen_df.select('product_id','product_title').dropDuplicates()\n",
        "\n",
        "kitchen_products_df.show()"
      ]
    },
    {
      "cell_type": "code",
      "execution_count": 33,
      "metadata": {
        "colab": {
          "base_uri": "https://localhost:8080/"
        },
        "id": "gGnXml3LL1Gz",
        "outputId": "9d082cdf-2843-49db-f366-5d98e79056ee"
      },
      "outputs": [
        {
          "data": {
            "text/plain": [
              "433478"
            ]
          },
          "execution_count": 33,
          "metadata": {},
          "output_type": "execute_result"
        }
      ],
      "source": [
        "kitchen_products_df.count()"
      ]
    },
    {
      "cell_type": "markdown",
      "metadata": {
        "id": "LJHuZ9zut0e5"
      },
      "source": [
        "## Create the \"customers\" Table"
      ]
    },
    {
      "cell_type": "code",
      "execution_count": 22,
      "metadata": {
        "colab": {
          "base_uri": "https://localhost:8080/"
        },
        "id": "_pF2Vf3c2n2O",
        "outputId": "7f7225f5-4030-41ba-89f6-7f1d885e6472"
      },
      "outputs": [
        {
          "name": "stdout",
          "output_type": "stream",
          "text": [
            "+-----------+--------------+\n",
            "|customer_id|customer_count|\n",
            "+-----------+--------------+\n",
            "|   23042837|             1|\n",
            "|   48875707|             2|\n",
            "|   48088660|             1|\n",
            "|   20781887|             6|\n",
            "|    1075003|             1|\n",
            "|   28377689|             3|\n",
            "|    8338749|             1|\n",
            "|   39271457|             6|\n",
            "|   38209321|             5|\n",
            "|   51397605|             1|\n",
            "|   45337932|             7|\n",
            "|   12948675|             3|\n",
            "|   38892468|             1|\n",
            "|   43582450|             1|\n",
            "|   13156755|             1|\n",
            "|   13433330|             1|\n",
            "|   17067926|             7|\n",
            "|   13780617|             1|\n",
            "|   50607818|             1|\n",
            "|   33437759|             2|\n",
            "+-----------+--------------+\n",
            "only showing top 20 rows\n",
            "\n"
          ]
        }
      ],
      "source": [
        "# Create the \"customers_df\" DataFrame that groups the data on the \"customer_id\" by the number of times a customer reviewed a product. \n",
        "\n",
        "kitchen_customers_df = kitchen_df.groupBy('customer_id').count()\n",
        "\n",
        "kitchen_customers_df = kitchen_customers_df.withColumnRenamed('count','customer_count')\n",
        "\n",
        "kitchen_customers_df.show()"
      ]
    },
    {
      "cell_type": "code",
      "execution_count": 34,
      "metadata": {
        "colab": {
          "base_uri": "https://localhost:8080/"
        },
        "id": "Zy18miv1L5GR",
        "outputId": "b9093959-068c-4a02-ab62-b647659962b6"
      },
      "outputs": [
        {
          "data": {
            "text/plain": [
              "2830483"
            ]
          },
          "execution_count": 34,
          "metadata": {},
          "output_type": "execute_result"
        }
      ],
      "source": [
        "kitchen_customers_df.count()"
      ]
    },
    {
      "cell_type": "markdown",
      "metadata": {
        "id": "8SbTasxbuXGK"
      },
      "source": [
        "## Create the \"vine_table\"."
      ]
    },
    {
      "cell_type": "code",
      "execution_count": 23,
      "metadata": {
        "colab": {
          "base_uri": "https://localhost:8080/"
        },
        "id": "WHQKbmCE2p3Q",
        "outputId": "8c7d169c-3aa2-411d-da17-a2bb29b5a8c7"
      },
      "outputs": [
        {
          "name": "stdout",
          "output_type": "stream",
          "text": [
            "+--------------+-----------+-------------+-----------+----+\n",
            "|     review_id|star_rating|helpful_votes|total_votes|vine|\n",
            "+--------------+-----------+-------------+-----------+----+\n",
            "|R3DT59XH7HXR9K|          5|            0|          0|   N|\n",
            "|R1LFS11BNASSU8|          5|            0|          1|   N|\n",
            "|R296RT05AG0AF6|          5|            0|          0|   N|\n",
            "|R3V37XDZ7ZCI3L|          5|            0|          1|   N|\n",
            "|R14GU232NQFYX2|          5|            0|          0|   N|\n",
            "| RZQH4V7L2O1PL|          1|            1|          1|   N|\n",
            "|R1F8JMOSPJ3KO7|          5|            0|          0|   N|\n",
            "|R1ZISGY2BWW4Z5|          5|            0|          0|   N|\n",
            "|R17PW4I3AE5WZW|          5|            0|          0|   N|\n",
            "|R3D93G1KTP6A8P|          3|            0|          0|   N|\n",
            "|R18TQIW1NKPUNU|          5|            0|          0|   N|\n",
            "|R34KUNL21WU248|          4|            0|          0|   N|\n",
            "|R2YA1ZA53X12IN|          5|            0|          0|   N|\n",
            "|R2ZD1IGC9UU55X|          5|            1|          1|   N|\n",
            "| R9J2YMVZTUVZ7|          5|            0|          0|   N|\n",
            "|R2UUXJ0WQR0CNI|          4|            0|          0|   N|\n",
            "|R3S9QICITG73JZ|          5|            0|          0|   N|\n",
            "|R3LISNJHS64PDA|          4|            0|          0|   N|\n",
            "|R28RB82UG4RDD5|          5|           20|         20|   N|\n",
            "|R3H0PRVII5991X|          5|            0|          0|   N|\n",
            "+--------------+-----------+-------------+-----------+----+\n",
            "only showing top 20 rows\n",
            "\n"
          ]
        }
      ],
      "source": [
        "# Create the \"vine_df\" DataFrame that has the \"review_id\", \"star_rating\", \"helpful_votes\", \"total_votes\", and \"vine\" columns. \n",
        "kitchen_vine_df = kitchen_df.select('review_id','star_rating','helpful_votes','total_votes','vine')\n",
        "\n",
        "kitchen_vine_df.show()"
      ]
    },
    {
      "cell_type": "code",
      "execution_count": 35,
      "metadata": {
        "colab": {
          "base_uri": "https://localhost:8080/"
        },
        "id": "k8q46TnFL8af",
        "outputId": "d9461d69-48eb-4992-8c0c-6be8914446a4"
      },
      "outputs": [
        {
          "data": {
            "text/plain": [
              "4880466"
            ]
          },
          "execution_count": 35,
          "metadata": {},
          "output_type": "execute_result"
        }
      ],
      "source": [
        "kitchen_vine_df.count()"
      ]
    },
    {
      "cell_type": "markdown",
      "metadata": {
        "id": "I8aTsEjZ2s6L"
      },
      "source": [
        "# Load"
      ]
    },
    {
      "cell_type": "code",
      "execution_count": 27,
      "metadata": {
        "id": "W4dzUKfI2vXM"
      },
      "outputs": [],
      "source": [
        "mode = \"append\"\n",
        "jdbc_url=\"jdbc:postgresql://<end point>:5432/reviews\"\n",
        "config = {\"user\":\"postgres\", \"password\": '<password>', \"driver\":\"org.postgresql.Driver\"}"
      ]
    },
    {
      "cell_type": "code",
      "execution_count": 36,
      "metadata": {
        "id": "iOxKqMsD2yVs"
      },
      "outputs": [],
      "source": [
        "# Write review_id_df to table in RDS\n",
        "kitchen_review_id_df.write.jdbc(url=jdbc_url,table='kitchen_review_info',mode=mode,properties=config)"
      ]
    },
    {
      "cell_type": "code",
      "execution_count": 28,
      "metadata": {
        "id": "pPXyGVE-2yPJ"
      },
      "outputs": [],
      "source": [
        "# Write products_df to table in RDS\n",
        "kitchen_products_df.write.jdbc(url=jdbc_url,table='kitchen_products',mode=mode,properties=config)"
      ]
    },
    {
      "cell_type": "code",
      "execution_count": 29,
      "metadata": {
        "id": "aHbca4zN2yIa"
      },
      "outputs": [],
      "source": [
        "# Write customers_df to table in RDS\n",
        "kitchen_customers_df.write.jdbc(url=jdbc_url,table='kitchen_customers',mode=mode,properties=config)"
      ]
    },
    {
      "cell_type": "code",
      "execution_count": 30,
      "metadata": {
        "id": "2HfOFneW2x_F"
      },
      "outputs": [],
      "source": [
        "# Write vine_df to table in RDS\n",
        "kitchen_vine_df.write.jdbc(url=jdbc_url,table='kitchen_vine_info',mode=mode,properties=config)"
      ]
    }
  ],
  "metadata": {
    "colab": {
      "provenance": []
    },
    "kernelspec": {
      "display_name": "Python 3.7.15 ('PythonData')",
      "language": "python",
      "name": "python3"
    },
    "language_info": {
      "codemirror_mode": {
        "name": "ipython",
        "version": 3
      },
      "file_extension": ".py",
      "mimetype": "text/x-python",
      "name": "python",
      "nbconvert_exporter": "python",
      "pygments_lexer": "ipython3",
      "version": "3.7.15"
    },
    "vscode": {
      "interpreter": {
        "hash": "c9b0bf6a235527dee47d8aa1349c2e3aa22b2d4d85c71094e9bb0f838d643ae3"
      }
    }
  },
  "nbformat": 4,
  "nbformat_minor": 0
}
